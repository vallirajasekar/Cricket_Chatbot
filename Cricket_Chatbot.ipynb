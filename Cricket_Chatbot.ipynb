{
  "nbformat": 4,
  "nbformat_minor": 0,
  "metadata": {
    "colab": {
      "provenance": [],
      "gpuType": "T4",
      "authorship_tag": "ABX9TyNi5ofMCzYK0VU1HaZgCI/x",
      "include_colab_link": true
    },
    "kernelspec": {
      "name": "python3",
      "display_name": "Python 3"
    },
    "language_info": {
      "name": "python"
    },
    "accelerator": "GPU",
    "gpuClass": "standard"
  },
  "cells": [
    {
      "cell_type": "markdown",
      "metadata": {
        "id": "view-in-github",
        "colab_type": "text"
      },
      "source": [
        "<a href=\"https://colab.research.google.com/github/vallirajasekar/Cricket_Chatbot/blob/main/Cricket_Chatbot.ipynb\" target=\"_parent\"><img src=\"https://colab.research.google.com/assets/colab-badge.svg\" alt=\"Open In Colab\"/></a>"
      ]
    },
    {
      "cell_type": "code",
      "execution_count": 1,
      "metadata": {
        "id": "MMgmrTkcggk2"
      },
      "outputs": [],
      "source": [
        "import requests\n",
        "from bs4 import BeautifulSoup\n",
        "import nltk\n",
        "from nltk.tokenize import sent_tokenize, word_tokenize\n",
        "from nltk.stem import WordNetLemmatizer\n",
        "from tensorflow.keras.preprocessing.text import Tokenizer\n",
        "from tensorflow.keras.preprocessing.sequence import pad_sequences\n",
        "from tensorflow.keras.models import Sequential\n",
        "from tensorflow.keras.layers import Embedding, LSTM, Dense, Bidirectional\n"
      ]
    },
    {
      "cell_type": "code",
      "source": [
        "urls = [\n",
        "    \"https://en.wikipedia.org/wiki/Indian_Premier_League\",\"https://www.iplt20.com/\",\"https://www.cricbuzz.com/\",\"https://www.google.com/search?q=cricinfo&oq=&aqs=chrome.2.69i57j69i64j69i59j0i67i650j0i20i131i263i433i512j0i20i263i433i512j0i131i433i512j0i512.5015j0j15&sourceid=chrome&ie=UTF-8\",\"https://www.espncricinfo.com/cricket-news\"\n",
        "]\n"
      ],
      "metadata": {
        "id": "a68-e5SMhQwX"
      },
      "execution_count": 2,
      "outputs": []
    },
    {
      "cell_type": "code",
      "source": [
        "def fetch_data(urls):\n",
        "    raw_docs = []\n",
        "    for url in urls:\n",
        "        response = requests.get(url)\n",
        "        soup = BeautifulSoup(response.content, \"html.parser\")\n",
        "        text = soup.get_text(separator=\" \")\n",
        "        raw_docs.append(text.lower())\n",
        "    return raw_docs\n"
      ],
      "metadata": {
        "id": "2DthPAHDhUvA"
      },
      "execution_count": 3,
      "outputs": []
    },
    {
      "cell_type": "code",
      "source": [
        "raw_docs = fetch_data(urls)\n"
      ],
      "metadata": {
        "id": "h5mAA0HJhZ2O"
      },
      "execution_count": 4,
      "outputs": []
    },
    {
      "cell_type": "code",
      "source": [
        "import nltk\n",
        "\n",
        "nltk.download('punkt')\n"
      ],
      "metadata": {
        "colab": {
          "base_uri": "https://localhost:8080/"
        },
        "id": "bO0QrCtBhwUR",
        "outputId": "7d9b51ac-dd1e-490a-c431-e96022f98a48"
      },
      "execution_count": 5,
      "outputs": [
        {
          "output_type": "stream",
          "name": "stderr",
          "text": [
            "[nltk_data] Downloading package punkt to /root/nltk_data...\n",
            "[nltk_data]   Package punkt is already up-to-date!\n"
          ]
        },
        {
          "output_type": "execute_result",
          "data": {
            "text/plain": [
              "True"
            ]
          },
          "metadata": {},
          "execution_count": 5
        }
      ]
    },
    {
      "cell_type": "code",
      "source": [
        "nltk.download('wordnet')\n",
        "\n",
        "# Create a WordNet lemmatizer\n",
        "lemmatizer = WordNetLemmatizer()\n",
        "\n",
        "sent_tokens = []\n",
        "word_tokens = []\n",
        "\n",
        "for doc in raw_docs:\n",
        "    sentences = sent_tokenize(doc)\n",
        "    sent_tokens.extend(sentences)\n",
        "    words = [lemmatizer.lemmatize(word) for word in word_tokenize(doc)]\n",
        "    word_tokens.extend(words)\n"
      ],
      "metadata": {
        "colab": {
          "base_uri": "https://localhost:8080/"
        },
        "id": "3x2jaAfHhdWb",
        "outputId": "52e0792e-4630-4f5c-f011-87abb59ecaa2"
      },
      "execution_count": 6,
      "outputs": [
        {
          "output_type": "stream",
          "name": "stderr",
          "text": [
            "[nltk_data] Downloading package wordnet to /root/nltk_data...\n",
            "[nltk_data]   Package wordnet is already up-to-date!\n"
          ]
        }
      ]
    },
    {
      "cell_type": "code",
      "source": [
        "# Prepare the training data\n",
        "tokenizer = Tokenizer()\n",
        "tokenizer.fit_on_texts(sent_tokens)\n",
        "total_words = len(tokenizer.word_index) + 1\n"
      ],
      "metadata": {
        "id": "eDz7JQ1miTca"
      },
      "execution_count": 7,
      "outputs": []
    },
    {
      "cell_type": "code",
      "source": [
        "input_sequences = []\n",
        "for sentence in sent_tokens:\n",
        "    seq = tokenizer.texts_to_sequences([sentence])[0]\n",
        "    for i in range(1, len(seq)):\n",
        "        n_gram_sequence = seq[:i+1]\n",
        "        input_sequences.append(n_gram_sequence)\n"
      ],
      "metadata": {
        "id": "wTd5M_EjiWj7"
      },
      "execution_count": 8,
      "outputs": []
    },
    {
      "cell_type": "code",
      "source": [
        "max_sequence_len = max([len(seq) for seq in input_sequences])\n",
        "padded_sequences = pad_sequences(input_sequences, maxlen=max_sequence_len, padding='pre')\n"
      ],
      "metadata": {
        "id": "5rWkmU0fiZGy"
      },
      "execution_count": 9,
      "outputs": []
    },
    {
      "cell_type": "code",
      "source": [
        "import tensorflow as tf\n",
        "from tensorflow.keras.utils import to_categorical\n",
        "\n",
        "# ...\n",
        "\n",
        "x_train = padded_sequences[:, :-1]\n",
        "y_train = padded_sequences[:, -1]\n",
        "y_train = to_categorical(y_train, num_classes=total_words)\n",
        "\n",
        "# ...\n"
      ],
      "metadata": {
        "id": "qf-GuRUKhgj5"
      },
      "execution_count": 10,
      "outputs": []
    },
    {
      "cell_type": "code",
      "source": [
        "model = Sequential()\n",
        "model.add(Embedding(total_words, 100, input_length=max_sequence_len-1))\n",
        "model.add(Bidirectional(LSTM(150)))\n",
        "model.add(Dense(total_words, activation='softmax'))\n"
      ],
      "metadata": {
        "id": "p5CfldY1iuAs"
      },
      "execution_count": 11,
      "outputs": []
    },
    {
      "cell_type": "code",
      "source": [
        "model.compile(loss='categorical_crossentropy', optimizer='adam', metrics=['accuracy'])\n",
        "model.fit(x_train, y_train, epochs=100, verbose=1)\n"
      ],
      "metadata": {
        "colab": {
          "base_uri": "https://localhost:8080/"
        },
        "id": "HeE4zUByi1wT",
        "outputId": "4ec3d44b-77e9-45cc-a2d1-9ed5ae2592b2"
      },
      "execution_count": null,
      "outputs": [
        {
          "output_type": "stream",
          "name": "stdout",
          "text": [
            "Epoch 1/100\n",
            "514/514 [==============================] - 128s 238ms/step - loss: 6.8728 - accuracy: 0.0565\n",
            "Epoch 2/100\n",
            "514/514 [==============================] - 84s 163ms/step - loss: 6.1219 - accuracy: 0.0979\n",
            "Epoch 3/100\n",
            "514/514 [==============================] - 70s 135ms/step - loss: 5.6480 - accuracy: 0.1233\n",
            "Epoch 4/100\n",
            "514/514 [==============================] - 62s 121ms/step - loss: 5.1757 - accuracy: 0.1563\n",
            "Epoch 5/100\n",
            "514/514 [==============================] - 61s 118ms/step - loss: 4.6644 - accuracy: 0.1949\n",
            "Epoch 6/100\n",
            "514/514 [==============================] - 57s 110ms/step - loss: 4.2031 - accuracy: 0.2304\n",
            "Epoch 7/100\n",
            "514/514 [==============================] - 55s 107ms/step - loss: 3.7822 - accuracy: 0.2695\n",
            "Epoch 8/100\n",
            "514/514 [==============================] - 53s 104ms/step - loss: 3.3934 - accuracy: 0.3143\n",
            "Epoch 9/100\n",
            "514/514 [==============================] - 55s 108ms/step - loss: 3.0365 - accuracy: 0.3663\n",
            "Epoch 10/100\n",
            "514/514 [==============================] - 54s 105ms/step - loss: 2.7117 - accuracy: 0.4275\n",
            "Epoch 11/100\n",
            "514/514 [==============================] - 53s 104ms/step - loss: 2.4152 - accuracy: 0.4832\n",
            "Epoch 12/100\n",
            "514/514 [==============================] - 52s 102ms/step - loss: 2.1507 - accuracy: 0.5398\n",
            "Epoch 13/100\n",
            "514/514 [==============================] - 53s 102ms/step - loss: 1.9140 - accuracy: 0.5868\n",
            "Epoch 14/100\n",
            "514/514 [==============================] - 52s 102ms/step - loss: 1.6975 - accuracy: 0.6364\n",
            "Epoch 15/100\n",
            "514/514 [==============================] - 53s 104ms/step - loss: 1.5056 - accuracy: 0.6777\n",
            "Epoch 16/100\n",
            "514/514 [==============================] - 52s 100ms/step - loss: 1.3384 - accuracy: 0.7182\n",
            "Epoch 17/100\n",
            "514/514 [==============================] - 53s 102ms/step - loss: 1.1858 - accuracy: 0.7552\n",
            "Epoch 18/100\n",
            "514/514 [==============================] - 53s 102ms/step - loss: 1.0518 - accuracy: 0.7865\n",
            "Epoch 19/100\n",
            "514/514 [==============================] - 52s 101ms/step - loss: 0.9340 - accuracy: 0.8119\n",
            "Epoch 20/100\n",
            "514/514 [==============================] - 52s 100ms/step - loss: 0.8271 - accuracy: 0.8402\n",
            "Epoch 21/100\n",
            "514/514 [==============================] - 51s 99ms/step - loss: 0.7366 - accuracy: 0.8560\n",
            "Epoch 22/100\n",
            "514/514 [==============================] - 51s 99ms/step - loss: 0.6551 - accuracy: 0.8763\n",
            "Epoch 23/100\n",
            "514/514 [==============================] - 51s 99ms/step - loss: 0.5821 - accuracy: 0.8908\n",
            "Epoch 24/100\n",
            "514/514 [==============================] - 51s 98ms/step - loss: 0.5214 - accuracy: 0.9020\n",
            "Epoch 25/100\n",
            "514/514 [==============================] - 52s 101ms/step - loss: 0.4675 - accuracy: 0.9121\n",
            "Epoch 26/100\n",
            "514/514 [==============================] - 51s 100ms/step - loss: 0.4221 - accuracy: 0.9224\n",
            "Epoch 27/100\n",
            "514/514 [==============================] - 52s 100ms/step - loss: 0.3821 - accuracy: 0.9257\n",
            "Epoch 28/100\n",
            "514/514 [==============================] - 51s 99ms/step - loss: 0.3482 - accuracy: 0.9328\n",
            "Epoch 29/100\n",
            "514/514 [==============================] - 52s 100ms/step - loss: 0.3196 - accuracy: 0.9361\n",
            "Epoch 30/100\n",
            "514/514 [==============================] - 51s 99ms/step - loss: 0.2982 - accuracy: 0.9390\n",
            "Epoch 31/100\n",
            "514/514 [==============================] - 51s 99ms/step - loss: 0.2786 - accuracy: 0.9402\n",
            "Epoch 32/100\n",
            "514/514 [==============================] - 51s 99ms/step - loss: 0.2592 - accuracy: 0.9437\n",
            "Epoch 33/100\n",
            "514/514 [==============================] - 51s 100ms/step - loss: 0.2451 - accuracy: 0.9458\n",
            "Epoch 34/100\n",
            "514/514 [==============================] - 51s 99ms/step - loss: 0.2315 - accuracy: 0.9459\n",
            "Epoch 35/100\n",
            "514/514 [==============================] - 51s 99ms/step - loss: 0.2249 - accuracy: 0.9463\n",
            "Epoch 36/100\n",
            "514/514 [==============================] - 51s 100ms/step - loss: 0.2190 - accuracy: 0.9473\n",
            "Epoch 37/100\n",
            "514/514 [==============================] - 50s 98ms/step - loss: 0.2099 - accuracy: 0.9485\n",
            "Epoch 38/100\n",
            "514/514 [==============================] - 51s 99ms/step - loss: 0.2052 - accuracy: 0.9476\n",
            "Epoch 39/100\n",
            "514/514 [==============================] - 51s 100ms/step - loss: 0.2027 - accuracy: 0.9487\n",
            "Epoch 40/100\n",
            "514/514 [==============================] - 51s 99ms/step - loss: 0.1933 - accuracy: 0.9498\n",
            "Epoch 41/100\n",
            "514/514 [==============================] - 51s 99ms/step - loss: 0.1866 - accuracy: 0.9499\n",
            "Epoch 42/100\n",
            "514/514 [==============================] - 51s 99ms/step - loss: 0.2012 - accuracy: 0.9479\n",
            "Epoch 43/100\n",
            "514/514 [==============================] - 51s 99ms/step - loss: 0.1926 - accuracy: 0.9496\n",
            "Epoch 44/100\n",
            "514/514 [==============================] - 51s 99ms/step - loss: 0.1814 - accuracy: 0.9509\n",
            "Epoch 45/100\n",
            "514/514 [==============================] - 51s 98ms/step - loss: 0.2264 - accuracy: 0.9422\n",
            "Epoch 46/100\n",
            "514/514 [==============================] - 50s 98ms/step - loss: 0.1850 - accuracy: 0.9503\n",
            "Epoch 47/100\n",
            "514/514 [==============================] - 51s 99ms/step - loss: 0.1676 - accuracy: 0.9514\n",
            "Epoch 48/100\n",
            "514/514 [==============================] - 50s 98ms/step - loss: 0.1640 - accuracy: 0.9531\n",
            "Epoch 49/100\n",
            "514/514 [==============================] - 50s 98ms/step - loss: 0.1617 - accuracy: 0.9525\n",
            "Epoch 50/100\n",
            "514/514 [==============================] - 51s 99ms/step - loss: 0.1611 - accuracy: 0.9538\n",
            "Epoch 51/100\n",
            "514/514 [==============================] - 50s 98ms/step - loss: 0.1659 - accuracy: 0.9511\n",
            "Epoch 52/100\n",
            "514/514 [==============================] - 51s 98ms/step - loss: 0.1629 - accuracy: 0.9528\n",
            "Epoch 53/100\n",
            "514/514 [==============================] - 50s 98ms/step - loss: 0.1811 - accuracy: 0.9478\n",
            "Epoch 54/100\n",
            "514/514 [==============================] - 50s 98ms/step - loss: 0.2521 - accuracy: 0.9327\n",
            "Epoch 55/100\n",
            "514/514 [==============================] - 50s 98ms/step - loss: 0.1652 - accuracy: 0.9532\n",
            "Epoch 56/100\n",
            "514/514 [==============================] - 52s 100ms/step - loss: 0.1541 - accuracy: 0.9537\n",
            "Epoch 57/100\n",
            "514/514 [==============================] - 50s 98ms/step - loss: 0.1513 - accuracy: 0.9545\n",
            "Epoch 58/100\n",
            "514/514 [==============================] - 50s 98ms/step - loss: 0.1516 - accuracy: 0.9548\n",
            "Epoch 59/100\n",
            "514/514 [==============================] - 51s 99ms/step - loss: 0.1525 - accuracy: 0.9536\n",
            "Epoch 60/100\n",
            "514/514 [==============================] - 51s 99ms/step - loss: 0.1498 - accuracy: 0.9545\n",
            "Epoch 61/100\n",
            "514/514 [==============================] - 50s 98ms/step - loss: 0.1504 - accuracy: 0.9536\n",
            "Epoch 62/100\n",
            "514/514 [==============================] - 51s 98ms/step - loss: 0.1497 - accuracy: 0.9541\n",
            "Epoch 63/100\n",
            "514/514 [==============================] - 51s 98ms/step - loss: 0.1760 - accuracy: 0.9476\n",
            "Epoch 64/100\n",
            "514/514 [==============================] - 50s 98ms/step - loss: 0.2875 - accuracy: 0.9198\n",
            "Epoch 65/100\n",
            "514/514 [==============================] - 50s 98ms/step - loss: 0.1623 - accuracy: 0.9528\n",
            "Epoch 66/100\n",
            "514/514 [==============================] - 50s 98ms/step - loss: 0.1465 - accuracy: 0.9554\n",
            "Epoch 67/100\n",
            "514/514 [==============================] - 50s 98ms/step - loss: 0.1433 - accuracy: 0.9562\n",
            "Epoch 68/100\n",
            "514/514 [==============================] - 51s 99ms/step - loss: 0.1435 - accuracy: 0.9564\n",
            "Epoch 69/100\n",
            "514/514 [==============================] - 51s 99ms/step - loss: 0.1424 - accuracy: 0.9561\n",
            "Epoch 70/100\n",
            "514/514 [==============================] - 51s 98ms/step - loss: 0.1436 - accuracy: 0.9560\n",
            "Epoch 71/100\n",
            "514/514 [==============================] - 51s 98ms/step - loss: 0.1429 - accuracy: 0.9557\n",
            "Epoch 72/100\n",
            "514/514 [==============================] - 50s 98ms/step - loss: 0.1420 - accuracy: 0.9565\n",
            "Epoch 73/100\n",
            "514/514 [==============================] - 50s 96ms/step - loss: 0.1442 - accuracy: 0.9560\n",
            "Epoch 74/100\n",
            "514/514 [==============================] - 51s 99ms/step - loss: 0.2197 - accuracy: 0.9374\n",
            "514/514 [==============================] - 51s 99ms/step - loss: 0.2197 - accuracy: 0.9374\n",
            "Epoch 75/100\n",
            "Epoch 75/100\n",
            "514/514 [==============================] - 52s 101ms/step - loss: 0.2043 - accuracy: 0.9408\n",
            "514/514 [==============================] - 52s 101ms/step - loss: 0.2043 - accuracy: 0.9408\n",
            "Epoch 76/100\n",
            "Epoch 76/100\n",
            "514/514 [==============================] - 52s 102ms/step - loss: 0.1503 - accuracy: 0.9551\n",
            "514/514 [==============================] - 52s 102ms/step - loss: 0.1503 - accuracy: 0.9551\n",
            "Epoch 77/100\n",
            "Epoch 77/100\n",
            "514/514 [==============================] - 52s 101ms/step - loss: 0.1402 - accuracy: 0.9565\n",
            "514/514 [==============================] - 52s 101ms/step - loss: 0.1402 - accuracy: 0.9565\n",
            "Epoch 78/100\n",
            "Epoch 78/100\n",
            "514/514 [==============================] - 52s 101ms/step - loss: 0.1389 - accuracy: 0.9570\n",
            "514/514 [==============================] - 52s 101ms/step - loss: 0.1389 - accuracy: 0.9570\n",
            "Epoch 79/100\n",
            "Epoch 79/100\n",
            "514/514 [==============================] - 51s 100ms/step - loss: 0.1389 - accuracy: 0.9564\n",
            "514/514 [==============================] - 51s 100ms/step - loss: 0.1389 - accuracy: 0.9564\n",
            "Epoch 80/100\n",
            "Epoch 80/100\n",
            "514/514 [==============================] - 52s 101ms/step - loss: 0.1387 - accuracy: 0.9570\n",
            "514/514 [==============================] - 52s 101ms/step - loss: 0.1387 - accuracy: 0.9570\n",
            "Epoch 81/100\n",
            "Epoch 81/100\n",
            "514/514 [==============================] - 51s 100ms/step - loss: 0.1387 - accuracy: 0.9566\n",
            "514/514 [==============================] - 51s 100ms/step - loss: 0.1387 - accuracy: 0.9566\n",
            "Epoch 82/100\n",
            "Epoch 82/100\n",
            "514/514 [==============================] - 52s 101ms/step - loss: 0.1381 - accuracy: 0.9559\n",
            "514/514 [==============================] - 52s 101ms/step - loss: 0.1381 - accuracy: 0.9559\n",
            "Epoch 83/100\n",
            "Epoch 83/100\n",
            "514/514 [==============================] - 52s 101ms/step - loss: 0.1397 - accuracy: 0.9562\n",
            "514/514 [==============================] - 52s 101ms/step - loss: 0.1397 - accuracy: 0.9562\n",
            "Epoch 84/100\n",
            "Epoch 84/100\n",
            "514/514 [==============================] - 52s 102ms/step - loss: 0.1408 - accuracy: 0.9557\n",
            "514/514 [==============================] - 52s 102ms/step - loss: 0.1408 - accuracy: 0.9557\n",
            "Epoch 85/100\n",
            "Epoch 85/100\n",
            "514/514 [==============================] - 52s 101ms/step - loss: 0.1579 - accuracy: 0.9513\n",
            "514/514 [==============================] - 52s 101ms/step - loss: 0.1579 - accuracy: 0.9513\n",
            "Epoch 86/100\n",
            "Epoch 86/100\n",
            "514/514 [==============================] - 53s 102ms/step - loss: 0.2341 - accuracy: 0.9309\n",
            "514/514 [==============================] - 53s 102ms/step - loss: 0.2341 - accuracy: 0.9309\n",
            "Epoch 87/100\n",
            "Epoch 87/100\n",
            "514/514 [==============================] - 52s 101ms/step - loss: 0.1638 - accuracy: 0.9523\n",
            "514/514 [==============================] - 52s 101ms/step - loss: 0.1638 - accuracy: 0.9523\n",
            "Epoch 88/100\n",
            "Epoch 88/100\n",
            "514/514 [==============================] - 53s 102ms/step - loss: 0.1412 - accuracy: 0.9561\n",
            "514/514 [==============================] - 53s 102ms/step - loss: 0.1412 - accuracy: 0.9561\n",
            "Epoch 89/100\n",
            "Epoch 89/100\n",
            "514/514 [==============================] - 52s 102ms/step - loss: 0.1367 - accuracy: 0.9574\n",
            "514/514 [==============================] - 52s 102ms/step - loss: 0.1367 - accuracy: 0.9574\n",
            "Epoch 90/100\n",
            "Epoch 90/100\n",
            "514/514 [==============================] - 52s 102ms/step - loss: 0.1345 - accuracy: 0.9579\n",
            "514/514 [==============================] - 52s 102ms/step - loss: 0.1345 - accuracy: 0.9579\n",
            "Epoch 91/100\n",
            "Epoch 91/100\n",
            "514/514 [==============================] - 53s 102ms/step - loss: 0.1344 - accuracy: 0.9571\n",
            "514/514 [==============================] - 53s 102ms/step - loss: 0.1344 - accuracy: 0.9571\n",
            "Epoch 92/100\n",
            "Epoch 92/100\n",
            "514/514 [==============================] - 52s 102ms/step - loss: 0.1352 - accuracy: 0.9560\n",
            "514/514 [==============================] - 52s 102ms/step - loss: 0.1352 - accuracy: 0.9560\n",
            "Epoch 93/100\n",
            "Epoch 93/100\n",
            "393/514 [=====================>........] - ETA: 12s - loss: 0.1326 - accuracy: 0.9592"
          ]
        }
      ]
    },
    {
      "cell_type": "code",
      "source": [
        "import random\n",
        "\n",
        "# Function to generate a response from the model\n",
        "def generate_response(model, tokenizer, max_sequence_len, input_text):\n",
        "    input_text = input_text.lower()\n",
        "    tokenized_text = tokenizer.texts_to_sequences([input_text])[0]\n",
        "    tokenized_text = pad_sequences([tokenized_text], maxlen=max_sequence_len-1, padding='pre')\n",
        "    predicted = model.predict_classes(tokenized_text, verbose=0)\n",
        "    output_word = \"\"\n",
        "    for word, index in tokenizer.word_index.items():\n",
        "        if index == predicted:\n",
        "            output_word = word\n",
        "            break\n",
        "    return output_word\n"
      ],
      "metadata": {
        "id": "an3m2AmImLsg"
      },
      "execution_count": null,
      "outputs": []
    },
    {
      "cell_type": "code",
      "source": [
        "# Function to generate a response from the model\n",
        "def generate_response(model, tokenizer, max_sequence_len, input_text):\n",
        "    input_text = input_text.lower()\n",
        "    tokenized_text = tokenizer.texts_to_sequences([input_text])[0]\n",
        "    tokenized_text = pad_sequences([tokenized_text], maxlen=max_sequence_len-1, padding='pre')\n",
        "    predicted_probs = model.predict(tokenized_text)[0]\n",
        "    predicted_index = tf.argmax(predicted_probs).numpy()\n",
        "    output_word = \"\"\n",
        "    for word, index in tokenizer.word_index.items():\n",
        "        if index == predicted_index:\n",
        "            output_word = word\n",
        "            break\n",
        "    return output_word\n"
      ],
      "metadata": {
        "id": "C1NKGBN1mwUr"
      },
      "execution_count": null,
      "outputs": []
    },
    {
      "cell_type": "code",
      "source": [
        "def chatbot_demo(model, tokenizer, max_sequence_len):\n",
        "    print(\"Chatbot Demo\")\n",
        "    print(\"Enter 'exit' to end the conversation.\")\n",
        "    while True:\n",
        "        user_input = input(\"User: \")\n",
        "        if user_input.lower() == 'exit':\n",
        "            print(\"Chatbot: Goodbye!\")\n",
        "            break\n",
        "        response = generate_response(model, tokenizer, max_sequence_len, user_input)\n",
        "        print(\"Chatbot:\", response)\n"
      ],
      "metadata": {
        "id": "yEBgpN-XmQPQ"
      },
      "execution_count": null,
      "outputs": []
    },
    {
      "cell_type": "code",
      "source": [],
      "metadata": {
        "id": "LxCYPHevjaQh"
      },
      "execution_count": null,
      "outputs": []
    },
    {
      "cell_type": "code",
      "source": [
        "!pip install transformers\n"
      ],
      "metadata": {
        "id": "5DMOZXKajdE4",
        "outputId": "efca19a7-4fb5-4107-afb9-0dfd6ea13c9b",
        "colab": {
          "base_uri": "https://localhost:8080/"
        }
      },
      "execution_count": 1,
      "outputs": [
        {
          "output_type": "stream",
          "name": "stdout",
          "text": [
            "Looking in indexes: https://pypi.org/simple, https://us-python.pkg.dev/colab-wheels/public/simple/\n",
            "Collecting transformers\n",
            "  Downloading transformers-4.29.2-py3-none-any.whl (7.1 MB)\n",
            "\u001b[2K     \u001b[90m━━━━━━━━━━━━━━━━━━━━━━━━━━━━━━━━━━━━━━━━\u001b[0m \u001b[32m7.1/7.1 MB\u001b[0m \u001b[31m45.6 MB/s\u001b[0m eta \u001b[36m0:00:00\u001b[0m\n",
            "\u001b[?25hRequirement already satisfied: filelock in /usr/local/lib/python3.10/dist-packages (from transformers) (3.12.0)\n",
            "Collecting huggingface-hub<1.0,>=0.14.1 (from transformers)\n",
            "  Downloading huggingface_hub-0.14.1-py3-none-any.whl (224 kB)\n",
            "\u001b[2K     \u001b[90m━━━━━━━━━━━━━━━━━━━━━━━━━━━━━━━━━━━━━━\u001b[0m \u001b[32m224.5/224.5 kB\u001b[0m \u001b[31m24.3 MB/s\u001b[0m eta \u001b[36m0:00:00\u001b[0m\n",
            "\u001b[?25hRequirement already satisfied: numpy>=1.17 in /usr/local/lib/python3.10/dist-packages (from transformers) (1.22.4)\n",
            "Requirement already satisfied: packaging>=20.0 in /usr/local/lib/python3.10/dist-packages (from transformers) (23.1)\n",
            "Requirement already satisfied: pyyaml>=5.1 in /usr/local/lib/python3.10/dist-packages (from transformers) (6.0)\n",
            "Requirement already satisfied: regex!=2019.12.17 in /usr/local/lib/python3.10/dist-packages (from transformers) (2022.10.31)\n",
            "Requirement already satisfied: requests in /usr/local/lib/python3.10/dist-packages (from transformers) (2.27.1)\n",
            "Collecting tokenizers!=0.11.3,<0.14,>=0.11.1 (from transformers)\n",
            "  Downloading tokenizers-0.13.3-cp310-cp310-manylinux_2_17_x86_64.manylinux2014_x86_64.whl (7.8 MB)\n",
            "\u001b[2K     \u001b[90m━━━━━━━━━━━━━━━━━━━━━━━━━━━━━━━━━━━━━━━━\u001b[0m \u001b[32m7.8/7.8 MB\u001b[0m \u001b[31m45.7 MB/s\u001b[0m eta \u001b[36m0:00:00\u001b[0m\n",
            "\u001b[?25hRequirement already satisfied: tqdm>=4.27 in /usr/local/lib/python3.10/dist-packages (from transformers) (4.65.0)\n",
            "Requirement already satisfied: fsspec in /usr/local/lib/python3.10/dist-packages (from huggingface-hub<1.0,>=0.14.1->transformers) (2023.4.0)\n",
            "Requirement already satisfied: typing-extensions>=3.7.4.3 in /usr/local/lib/python3.10/dist-packages (from huggingface-hub<1.0,>=0.14.1->transformers) (4.5.0)\n",
            "Requirement already satisfied: urllib3<1.27,>=1.21.1 in /usr/local/lib/python3.10/dist-packages (from requests->transformers) (1.26.15)\n",
            "Requirement already satisfied: certifi>=2017.4.17 in /usr/local/lib/python3.10/dist-packages (from requests->transformers) (2022.12.7)\n",
            "Requirement already satisfied: charset-normalizer~=2.0.0 in /usr/local/lib/python3.10/dist-packages (from requests->transformers) (2.0.12)\n",
            "Requirement already satisfied: idna<4,>=2.5 in /usr/local/lib/python3.10/dist-packages (from requests->transformers) (3.4)\n",
            "Installing collected packages: tokenizers, huggingface-hub, transformers\n",
            "Successfully installed huggingface-hub-0.14.1 tokenizers-0.13.3 transformers-4.29.2\n"
          ]
        }
      ]
    },
    {
      "cell_type": "code",
      "source": [
        "import torch\n",
        "from transformers import BertTokenizer, BertForSequenceClassification\n",
        "\n",
        "# Load the pre-trained BERT model and tokenizer\n",
        "model_name = 'model'\n",
        "tokenizer = BertTokenizer.from_pretrained(model_name)\n",
        "model = BertForSequenceClassification.from_pretrained(model_name)\n"
      ],
      "metadata": {
        "id": "AHqjm1qmjluA"
      },
      "execution_count": null,
      "outputs": []
    },
    {
      "cell_type": "code",
      "source": [
        "def generate_response(model, tokenizer, input_text):\n",
        "    input_text = input_text.lower()\n",
        "    encoded_input = tokenizer.encode_plus(input_text, add_special_tokens=True, padding='max_length', max_length=128, truncation=True, return_tensors='pt')\n",
        "    input_ids = encoded_input['input_ids']\n",
        "    attention_mask = encoded_input['attention_mask']\n",
        "    \n",
        "    with torch.no_grad():\n",
        "        outputs = model(input_ids, attention_mask=attention_mask)\n",
        "        _, predicted_labels = torch.max(outputs.logits, dim=1)\n",
        "    \n",
        "    predicted_index = predicted_labels.item()\n",
        "    output_word = tokenizer.convert_ids_to_tokens(predicted_index)\n",
        "    \n",
        "    return output_word\n"
      ],
      "metadata": {
        "id": "H9V3TsJRjlyj"
      },
      "execution_count": 2,
      "outputs": []
    },
    {
      "cell_type": "code",
      "source": [
        "def chatbot_demo(model, tokenizer):\n",
        "    print(\"Chatbot Demo\")\n",
        "    print(\"Enter 'exit' to end the conversation.\")\n",
        "    while True:\n",
        "        user_input = input(\"User: \")\n",
        "        if user_input.lower() == 'exit':\n",
        "            print(\"Chatbot: Goodbye!\")\n",
        "            break\n",
        "        elif user_input.lower() in ['hi', 'hello', 'hey']:\n",
        "            print(\"Chatbot: Hi there!\")\n",
        "        elif '?' in user_input:\n",
        "            print(\"Chatbot: I'm sorry, I don't have the answer to that question.\")\n",
        "        else:\n",
        "            response = generate_response(model, tokenizer, user_input)\n",
        "            print(\"Chatbot:\", response)\n"
      ],
      "metadata": {
        "id": "4hUhH2GLj8II"
      },
      "execution_count": 3,
      "outputs": []
    },
    {
      "cell_type": "code",
      "source": [
        "chatbot_demo(model, tokenizer)\n"
      ],
      "metadata": {
        "id": "b6QcH1Gnj8LB",
        "outputId": "7de4f0a0-6a7c-4b94-a531-f2ca0f4fdb7c",
        "colab": {
          "base_uri": "https://localhost:8080/",
          "height": 204
        }
      },
      "execution_count": 5,
      "outputs": [
        {
          "output_type": "error",
          "ename": "NameError",
          "evalue": "ignored",
          "traceback": [
            "\u001b[0;31m---------------------------------------------------------------------------\u001b[0m",
            "\u001b[0;31mNameError\u001b[0m                                 Traceback (most recent call last)",
            "\u001b[0;32m<ipython-input-5-ddb7e594d0d3>\u001b[0m in \u001b[0;36m<cell line: 1>\u001b[0;34m()\u001b[0m\n\u001b[0;32m----> 1\u001b[0;31m \u001b[0mchatbot_demo\u001b[0m\u001b[0;34m(\u001b[0m\u001b[0mmodel\u001b[0m\u001b[0;34m,\u001b[0m \u001b[0mtokenizer\u001b[0m\u001b[0;34m)\u001b[0m\u001b[0;34m\u001b[0m\u001b[0;34m\u001b[0m\u001b[0m\n\u001b[0m",
            "\u001b[0;31mNameError\u001b[0m: name 'model' is not defined"
          ]
        }
      ]
    },
    {
      "cell_type": "code",
      "source": [],
      "metadata": {
        "id": "wS7nC4WTj8OZ"
      },
      "execution_count": null,
      "outputs": []
    },
    {
      "cell_type": "code",
      "source": [],
      "metadata": {
        "id": "mKpP-HEjjl2w"
      },
      "execution_count": null,
      "outputs": []
    },
    {
      "cell_type": "code",
      "source": [
        "chatbot_demo(model, tokenizer, max_sequence_len)\n"
      ],
      "metadata": {
        "colab": {
          "base_uri": "https://localhost:8080/",
          "height": 1000
        },
        "id": "usnI9VrfmUfY",
        "outputId": "e200fe7a-4b52-4441-ee58-b5aa7bfd5f8a"
      },
      "execution_count": 17,
      "outputs": [
        {
          "output_type": "stream",
          "name": "stdout",
          "text": [
            "Chatbot Demo\n",
            "Enter 'exit' to end the conversation.\n",
            "User: KKR\n",
            "1/1 [==============================] - 0s 52ms/step\n",
            "Chatbot: final\n",
            "User: Hi\n",
            "1/1 [==============================] - 0s 50ms/step\n",
            "Chatbot: 134\n",
            "User: CSK\n",
            "1/1 [==============================] - 0s 51ms/step\n",
            "Chatbot: v\n",
            "User: Chennai\n",
            "1/1 [==============================] - 0s 50ms/step\n",
            "Chatbot: super\n",
            "User: Kings\n",
            "1/1 [==============================] - 0s 52ms/step\n",
            "Chatbot: out\n",
            "User: cricinfo\n",
            "1/1 [==============================] - 0s 52ms/step\n",
            "Chatbot: google\n",
            "User: dhoni\n",
            "1/1 [==============================] - 0s 55ms/step\n",
            "Chatbot: back\n",
            "User: rohit\n",
            "1/1 [==============================] - 0s 52ms/step\n",
            "Chatbot: needed\n",
            "User: virat\n",
            "1/1 [==============================] - 0s 51ms/step\n",
            "Chatbot: today\n",
            "User: ipl 2022\n",
            "1/1 [==============================] - 0s 51ms/step\n",
            "Chatbot: records\n",
            "User: records\n",
            "1/1 [==============================] - 0s 66ms/step\n",
            "Chatbot: the\n"
          ]
        },
        {
          "output_type": "error",
          "ename": "KeyboardInterrupt",
          "evalue": "ignored",
          "traceback": [
            "\u001b[0;31m---------------------------------------------------------------------------\u001b[0m",
            "\u001b[0;31mKeyboardInterrupt\u001b[0m                         Traceback (most recent call last)",
            "\u001b[0;32m<ipython-input-17-ae5a16976197>\u001b[0m in \u001b[0;36m<cell line: 1>\u001b[0;34m()\u001b[0m\n\u001b[0;32m----> 1\u001b[0;31m \u001b[0mchatbot_demo\u001b[0m\u001b[0;34m(\u001b[0m\u001b[0mmodel\u001b[0m\u001b[0;34m,\u001b[0m \u001b[0mtokenizer\u001b[0m\u001b[0;34m,\u001b[0m \u001b[0mmax_sequence_len\u001b[0m\u001b[0;34m)\u001b[0m\u001b[0;34m\u001b[0m\u001b[0;34m\u001b[0m\u001b[0m\n\u001b[0m",
            "\u001b[0;32m<ipython-input-15-4c986906dd2e>\u001b[0m in \u001b[0;36mchatbot_demo\u001b[0;34m(model, tokenizer, max_sequence_len)\u001b[0m\n\u001b[1;32m      3\u001b[0m     \u001b[0mprint\u001b[0m\u001b[0;34m(\u001b[0m\u001b[0;34m\"Enter 'exit' to end the conversation.\"\u001b[0m\u001b[0;34m)\u001b[0m\u001b[0;34m\u001b[0m\u001b[0;34m\u001b[0m\u001b[0m\n\u001b[1;32m      4\u001b[0m     \u001b[0;32mwhile\u001b[0m \u001b[0;32mTrue\u001b[0m\u001b[0;34m:\u001b[0m\u001b[0;34m\u001b[0m\u001b[0;34m\u001b[0m\u001b[0m\n\u001b[0;32m----> 5\u001b[0;31m         \u001b[0muser_input\u001b[0m \u001b[0;34m=\u001b[0m \u001b[0minput\u001b[0m\u001b[0;34m(\u001b[0m\u001b[0;34m\"User: \"\u001b[0m\u001b[0;34m)\u001b[0m\u001b[0;34m\u001b[0m\u001b[0;34m\u001b[0m\u001b[0m\n\u001b[0m\u001b[1;32m      6\u001b[0m         \u001b[0;32mif\u001b[0m \u001b[0muser_input\u001b[0m\u001b[0;34m.\u001b[0m\u001b[0mlower\u001b[0m\u001b[0;34m(\u001b[0m\u001b[0;34m)\u001b[0m \u001b[0;34m==\u001b[0m \u001b[0;34m'exit'\u001b[0m\u001b[0;34m:\u001b[0m\u001b[0;34m\u001b[0m\u001b[0;34m\u001b[0m\u001b[0m\n\u001b[1;32m      7\u001b[0m             \u001b[0mprint\u001b[0m\u001b[0;34m(\u001b[0m\u001b[0;34m\"Chatbot: Goodbye!\"\u001b[0m\u001b[0;34m)\u001b[0m\u001b[0;34m\u001b[0m\u001b[0;34m\u001b[0m\u001b[0m\n",
            "\u001b[0;32m/usr/local/lib/python3.10/dist-packages/ipykernel/kernelbase.py\u001b[0m in \u001b[0;36mraw_input\u001b[0;34m(self, prompt)\u001b[0m\n\u001b[1;32m    849\u001b[0m                 \u001b[0;34m\"raw_input was called, but this frontend does not support input requests.\"\u001b[0m\u001b[0;34m\u001b[0m\u001b[0;34m\u001b[0m\u001b[0m\n\u001b[1;32m    850\u001b[0m             )\n\u001b[0;32m--> 851\u001b[0;31m         return self._input_request(str(prompt),\n\u001b[0m\u001b[1;32m    852\u001b[0m             \u001b[0mself\u001b[0m\u001b[0;34m.\u001b[0m\u001b[0m_parent_ident\u001b[0m\u001b[0;34m,\u001b[0m\u001b[0;34m\u001b[0m\u001b[0;34m\u001b[0m\u001b[0m\n\u001b[1;32m    853\u001b[0m             \u001b[0mself\u001b[0m\u001b[0;34m.\u001b[0m\u001b[0m_parent_header\u001b[0m\u001b[0;34m,\u001b[0m\u001b[0;34m\u001b[0m\u001b[0;34m\u001b[0m\u001b[0m\n",
            "\u001b[0;32m/usr/local/lib/python3.10/dist-packages/ipykernel/kernelbase.py\u001b[0m in \u001b[0;36m_input_request\u001b[0;34m(self, prompt, ident, parent, password)\u001b[0m\n\u001b[1;32m    893\u001b[0m             \u001b[0;32mexcept\u001b[0m \u001b[0mKeyboardInterrupt\u001b[0m\u001b[0;34m:\u001b[0m\u001b[0;34m\u001b[0m\u001b[0;34m\u001b[0m\u001b[0m\n\u001b[1;32m    894\u001b[0m                 \u001b[0;31m# re-raise KeyboardInterrupt, to truncate traceback\u001b[0m\u001b[0;34m\u001b[0m\u001b[0;34m\u001b[0m\u001b[0m\n\u001b[0;32m--> 895\u001b[0;31m                 \u001b[0;32mraise\u001b[0m \u001b[0mKeyboardInterrupt\u001b[0m\u001b[0;34m(\u001b[0m\u001b[0;34m\"Interrupted by user\"\u001b[0m\u001b[0;34m)\u001b[0m \u001b[0;32mfrom\u001b[0m \u001b[0;32mNone\u001b[0m\u001b[0;34m\u001b[0m\u001b[0;34m\u001b[0m\u001b[0m\n\u001b[0m\u001b[1;32m    896\u001b[0m             \u001b[0;32mexcept\u001b[0m \u001b[0mException\u001b[0m \u001b[0;32mas\u001b[0m \u001b[0me\u001b[0m\u001b[0;34m:\u001b[0m\u001b[0;34m\u001b[0m\u001b[0;34m\u001b[0m\u001b[0m\n\u001b[1;32m    897\u001b[0m                 \u001b[0mself\u001b[0m\u001b[0;34m.\u001b[0m\u001b[0mlog\u001b[0m\u001b[0;34m.\u001b[0m\u001b[0mwarning\u001b[0m\u001b[0;34m(\u001b[0m\u001b[0;34m\"Invalid Message:\"\u001b[0m\u001b[0;34m,\u001b[0m \u001b[0mexc_info\u001b[0m\u001b[0;34m=\u001b[0m\u001b[0;32mTrue\u001b[0m\u001b[0;34m)\u001b[0m\u001b[0;34m\u001b[0m\u001b[0;34m\u001b[0m\u001b[0m\n",
            "\u001b[0;31mKeyboardInterrupt\u001b[0m: Interrupted by user"
          ]
        }
      ]
    },
    {
      "cell_type": "code",
      "source": [],
      "metadata": {
        "id": "O97E2x6pmVuI"
      },
      "execution_count": null,
      "outputs": []
    }
  ]
}